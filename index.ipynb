{
 "cells": [
  {
   "cell_type": "markdown",
   "metadata": {},
   "source": [
    "<a href=\"http://em.geosci.xyz\"><img src=\"https://em.geosci.xyz/_images/disc_dipole.png\" style=\"width: 25%; height: 25%\" align=\"right\"></img></a>\n",
    "\n",
    "# EM GeoSci Apps\n",
    "\n",
    "The purpose of these notebooks is to provide tools for you to investigate fundamental concepts in electromagnetic geophysics. They support **<a href=\"http://em.geosci.xyz\">em.geosci.xyz</a>**, an open source \"textbook\" resource for electromagnetic geophysics.  \n",
    "\n",
    "These notebooks are powered by <a href=\"http://simpeg.xzy\">SimPEG</a>, an open source framework for Simulation and Parameter Estimation in Geophysics.\n",
    "\n",
    "If you have feedback, we would like to hear from you! \n",
    "- <a href=\"http://geosci.xyz/contact\">Contact us</a>\n",
    "- <a href=\"https://github.com/geoscixyz/em_apps/issues\">Report issues</a>\n",
    "- <a href=\"https://github.com/geoscixyz/em_apps/\">Join the development</a>"
   ]
  },
  {
   "cell_type": "markdown",
   "metadata": {},
   "source": [
    "**[DC](#DC-Resistivity) | [EM Fundamentals](#EM-Fundamentals) | [Inductive Sources](#Inductive-Source-EM) | [Grounded Sources](#Grounded-Source-EM) | [Natural Sources](#Natural-Source-EM) | [IP](#Induced-Polarization) | [GPR](#Ground-Penetrating-Radar) | [Inversion](Inversion)**\n",
    "\n",
    "\n",
    "## Contents\n",
    "\n",
    "#### DC Resistivity\n",
    "- [DC_LayeredEarth.ipynb](./notebooks/dcip/DC_LayeredEarth.ipynb)\n",
    "- [DC_Cylinder_2D.ipynb](./notebooks/dcip/DC_Cylinder_2D.ipynb)\n",
    "- [DC_Building_Pseudosections.ipynb](./notebooks/dcip/DC_Building_Pseudosections.ipynb)\n",
    "- [DC_Inversions.ipynb](./notebooks/dcip/DC_Inversions.ipynb)\n",
    "- [DC_Layer_Cylinder_2D.ipynb](./notebooks/dcip/DC_Layer_Cylinder_2D.ipynb)\n",
    "- [DC_Layer_Cylinder_2_5D.ipynb](./notebooks/dcip/DC_Layer_Cylinder_2_5D.ipynb)\n",
    "- [DC_Plate_2D.ipynb](./notebooks/dcip/DC_Plate_2D.ipynb)\n",
    "- [DC_Plate2_5D.ipynb](./notebooks/dcip/DC_Plate2_5D.ipynb)\n",
    "- [DCIP_2D_Overburden_Pseudosections.ipynb](./notebooks/dcip/DCIP_2D_Overburden_Pseudosections.ipynb)\n",
    "- [DC_Overburden_2_5D.ipynb](./notebooks/dcip/DC_Overburden_2_5D.ipynb)\n",
    "- [DC_Sphere_Constant_E.ipynb](./notebooks/dcip/DC_Sphere_Constant_E.ipynb)\n",
    "\n",
    "#### EM Fundamentals\n",
    "- [FDEM_ThreeLoopModel.ipynb](./notebooks/em/FDEM_ThreeLoopModel.ipynb)\n",
    "- [InductionRLcircuit_Transient.ipynb](./notebooks/em/InductionRLcircuit_Transient.ipynb)\n",
    "- [InductionRLcircuit_Harmonic.ipynb](./notebooks/em/InductionRLcircuit_Harmonic.ipynb)\n",
    "- [FDEM_Inductive_Sphere.ipynb](./notebooks/em/FDEM_Inductive_Sphere.ipynb)\n",
    "- [TDEM_Planewave_Wholespace.ipynb](./notebooks/em/TDEM_Planewave_Wholespace.ipynb)\n",
    "- [FDEM_Planewave_Wholespace.ipynb](./notebooks/em/FDEM_Planewave_Wholespace.ipynb)\n",
    "- [TDEM_MagneticDipole_Wholespace.ipynb](./notebooks/em/TDEM_MagneticDipole_Wholespace.ipynb)\n",
    "- [FDEM_MagneticDipole_Wholespace.ipynb](./notebooks/em/FDEM_MagneticDipole_Wholespace.ipynb)\n",
    "\n",
    "#### Inductive Source EM\n",
    "- [TDEM_HorizontalLoop_LayeredEarth.ipynb](./notebooks/em/TDEM_HorizontalLoop_LayeredEarth.ipynb)\n",
    "- [TDEM_HorizontalLoop_Sphere.ipynb](./notebooks/em/TDEM_HorizontalLoop_Sphere.ipynb)\n",
    "- [FDEM_VMD_LayeredEarth.ipynb](./notebooks/em/FDEM_VMD_LayeredEarth.ipynb)\n",
    "- [FDEM_VMD_Sphere.ipynb](./notebooks/em/FDEM_VMD_Sphere.ipynb)\n",
    "- [TDEM_Inductivesource.ipynb](./notebooks/em/TDEM_Inductivesource.ipynb)\n",
    "- [TDEM_UXO.ipynb](./notebooks/em/TDEM_UXO.ipynb)\n",
    "\n",
    "#### Grounded Source EM\n",
    "- [TDEM_ElectricDipole_Wholespace.ipynb](./notebooks/em/TDEM_ElectricDipole_Wholespace.ipynb)\n",
    "- [FDEM_ElectricDipole_Wholespace.ipynb](./notebooks/em/FDEM_ElectricDipole_Wholespace.ipynb)\n",
    "- [MarineCSEM_LayeredEarth.ipynb](./notebooks/em/MarineCSEM_LayeredEarth.ipynb)\n",
    "- [TDEM_Groundedsource.ipynb](./notebooks/em/TDEM_Groundedsource.ipynb)\n",
    "\n",
    "#### Natural Source EM\n",
    "- [FDEM_Planewave_Reflection.ipynb](./notebooks/em/FDEM_Planewave_Reflection.ipynb)\n",
    "- [MT_LayeredEarth.ipynb](./notebooks/em/MT_LayeredEarth.ipynb)\n",
    "\n",
    "#### Induced Polarization\n",
    "- [PhyProp_ColeCole.ipynb](./notebooks/dcip/PhyProp_ColeCole.ipynb)\n",
    "\n",
    "#### Ground Penetrating Radar\n",
    "- [GPR_Attenuation.ipynb](./notebooks/GPR_Attenuation.ipynb)\n",
    "\n",
    "#### Inversion\n",
    "- [LinearInversion.ipynb](./notebooks/inversion/LinearInversion.ipynb)\n",
    "- [2D-LinearInversion-Crosswell-Tomorgraphy.ipynb](./notebooks/inversion/2D-LinearInversion-Crosswell-Tomorgraphy.ipynb)"
   ]
  },
  {
   "cell_type": "markdown",
   "metadata": {},
   "source": [
    "## Running the notebook\n",
    "\n",
    "From the menu, select `cell`, `run all`, or run each individual cell using `shift + enter`\n",
    "\n",
    "![cell-run-all](https://em.geosci.xyz/_images/run_all_cells.png)"
   ]
  },
  {
   "cell_type": "markdown",
   "metadata": {},
   "source": [
    "#### <center>We love open source!</center>\n",
    "\n",
    "<center><a rel=\"license\" href=\"http://creativecommons.org/licenses/by/4.0/\"><img alt=\"Creative Commons License\" style=\"border-width:0\" width=60 src=\"https://i.creativecommons.org/l/by/4.0/88x31.png\" /></a> \n",
    "\n",
    "This work is licensed under a <a rel=\"license\" href=\"http://creativecommons.org/licenses/by/4.0/\">Creative Commons Attribution 4.0 International License</a>.</center>"
   ]
  }
 ],
 "metadata": {
  "anaconda-cloud": {},
  "kernelspec": {
   "display_name": "Python 3",
   "language": "python",
   "name": "python3"
  },
  "language_info": {
   "codemirror_mode": {
    "name": "ipython",
    "version": 3
   },
   "file_extension": ".py",
   "mimetype": "text/x-python",
   "name": "python",
   "nbconvert_exporter": "python",
   "pygments_lexer": "ipython3",
   "version": "3.6.7"
  }
 },
 "nbformat": 4,
 "nbformat_minor": 1
}
